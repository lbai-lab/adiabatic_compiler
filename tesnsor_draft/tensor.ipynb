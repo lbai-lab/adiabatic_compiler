{
 "cells": [
  {
   "cell_type": "code",
   "execution_count": 1,
   "metadata": {},
   "outputs": [],
   "source": [
    "import numpy as np\n",
    "from qiskit import QuantumCircuit, transpile\n",
    "from qiskit_aer import AerSimulator\n",
    "from qiskit.visualization import plot_histogram\n",
    "from qiskit.quantum_info import Operator"
   ]
  },
  {
   "cell_type": "code",
   "execution_count": 2,
   "metadata": {},
   "outputs": [],
   "source": [
    "def ket(x: list):\n",
    "    return np.array(x).reshape(-1, 1).astype(np.complex128)\n",
    "\n",
    "\n",
    "state00 = ket([1, 0, 0, 0])\n",
    "state11 = ket([0, 0, 0, 1])\n",
    "\n",
    "phi_I = (state00 + state11) / np.sqrt(2)\n",
    "phi_X = np.dot(np.kron(np.eye(2), np.array([[0, 1], [1, 0]])), phi_I)\n",
    "phi_Z = np.dot(np.kron(np.eye(2), np.array([[1, 0], [0, -1]])), phi_I)\n",
    "phi_XZ = np.dot(\n",
    "    np.kron(np.eye(2), np.dot(np.array([[0, 1], [1, 0]]), np.array([[1, 0], [0, -1]]))),\n",
    "    phi_I,\n",
    ")"
   ]
  },
  {
   "cell_type": "code",
   "execution_count": 3,
   "metadata": {},
   "outputs": [],
   "source": [
    "def project_itself(x: np.matrix):\n",
    "    return np.dot(x, x.reshape(1, -1))\n",
    "\n",
    "\n",
    "# take a smallest example, 2 qubit and 1 2-qubit gate\n",
    "# total used qubits are 2Dn + n qubts, latter n for input\n",
    "n = 2\n",
    "D = 1\n",
    "total = n * (2 * D + 1)\n",
    "\n"
   ]
  },
  {
   "cell_type": "code",
   "execution_count": 4,
   "metadata": {},
   "outputs": [],
   "source": [
    "# pick a perturbation \"epsilon\"\n",
    "eps = 0.1\n",
    "lamb = eps * project_itself(phi_I) + (\n",
    "    project_itself(phi_X) + project_itself(phi_Z) + project_itself(phi_XZ)\n",
    ")\n",
    "\n",
    "\n",
    "def lamb_n(n: int):\n",
    "    res = lamb\n",
    "    for _ in range(n - 1):\n",
    "        res = np.kron(res, lamb)\n",
    "    return res\n",
    "\n",
    "\n",
    "# penalize on states that have |1>\n",
    "penalize_one = np.diag([0, 1, 1, 2])\n",
    "# extend to 2n qubits that fits the injective map\n",
    "# these qubits are the next column\n",
    "penalize_one = np.kron(penalize_one, np.eye(4))\n",
    "# multiply with injective map, recall that n=2\n",
    "H_in = np.dot(np.dot(lamb_n(2), penalize_one), lamb_n(2))\n",
    "# finally extend to actual size of Hamiltonian\n",
    "# it is known that the input is at the beginning\n",
    "# so there are one column / 2 qubits at the end\n",
    "H_in = np.kron(H_in, np.eye(4))\n",
    "\n",
    "\n",
    "# check output, but now the extension is at the beginning\n",
    "H_out = np.kron(np.eye(4), penalize_one)\n",
    "\n",
    "\n",
    "# since we have smallest example, we use the boundary case\n",
    "X = np.array([[0, 1], [1, 0]])\n",
    "phi_U = np.dot(np.kron(np.eye(4), np.kron(X, X)), np.kron(phi_I, phi_I))\n",
    "penalize_U = np.eye(16) - project_itself(phi_U)\n",
    "# note that here is no more lamb_4, because it is boundary -> lamb_2\n",
    "H_u = np.dot(np.dot(lamb_n(2), penalize_U), lamb_n(2))\n",
    "# based on the image, the middle part is blue wavy line\n",
    "H_u = np.kron(np.eye(4), H_u)\n"
   ]
  },
  {
   "cell_type": "code",
   "execution_count": 5,
   "metadata": {},
   "outputs": [
    {
     "name": "stderr",
     "output_type": "stream",
     "text": [
      "100%|██████████| 7/7 [00:00<00:00, 35.24it/s]\n"
     ]
    },
    {
     "data": {
      "text/plain": [
       "{'111100': 87,\n",
       " '001100': 62,\n",
       " '111111': 11,\n",
       " '110011': 197,\n",
       " '110000': 124,\n",
       " '000000': 364,\n",
       " '001111': 9,\n",
       " '000011': 170}"
      ]
     },
     "execution_count": 5,
     "metadata": {},
     "output_type": "execute_result"
    }
   ],
   "source": [
    "from frontend import AdiabaticProgram\n",
    "from backend.cpu import CPUBackend\n",
    "from scipy import sparse as sp\n",
    "\n",
    "class TempAP(AdiabaticProgram):\n",
    "    def __init__(self) -> None:\n",
    "        super().__init__(H_in, H_in + H_out + H_u, 2**6, 6, 6)\n",
    "    def compile(self):\n",
    "        return sp.csc_matrix(self.H_init), sp.csc_matrix(self.H_final)\n",
    "    \n",
    "CPUBackend().run(TempAP(), 1024)"
   ]
  }
 ],
 "metadata": {
  "kernelspec": {
   "display_name": "ac",
   "language": "python",
   "name": "python3"
  },
  "language_info": {
   "codemirror_mode": {
    "name": "ipython",
    "version": 3
   },
   "file_extension": ".py",
   "mimetype": "text/x-python",
   "name": "python",
   "nbconvert_exporter": "python",
   "pygments_lexer": "ipython3",
   "version": "3.10.13"
  }
 },
 "nbformat": 4,
 "nbformat_minor": 2
}
