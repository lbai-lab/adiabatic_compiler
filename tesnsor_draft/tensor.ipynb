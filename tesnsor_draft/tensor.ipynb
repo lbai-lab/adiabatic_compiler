{
 "cells": [
  {
   "cell_type": "code",
   "execution_count": 1,
   "metadata": {},
   "outputs": [],
   "source": [
    "import numpy as np\n",
    "from qiskit import QuantumCircuit, transpile\n",
    "from qiskit_aer import AerSimulator\n",
    "from qiskit.visualization import plot_histogram\n",
    "from qiskit.quantum_info import Operator"
   ]
  },
  {
   "cell_type": "code",
   "execution_count": 34,
   "metadata": {},
   "outputs": [],
   "source": [
    "def ket(x: list):\n",
    "    return np.array(x).reshape(-1, 1).astype(np.complex128)\n",
    "\n",
    "\n",
    "state00 = ket([1, 0, 0, 0])\n",
    "state11 = ket([0, 0, 0, 1])\n",
    "\n",
    "phi_I = (state00 + state11) / np.sqrt(2)\n",
    "phi_IX = np.dot(np.kron(np.eye(2), np.array([[0, 1], [1, 0]])), phi_I)\n",
    "phi_IZ = np.dot(np.kron(np.eye(2), np.array([[1, 0], [0, -1]])), phi_I)\n",
    "phi_IXZ = np.dot(\n",
    "    np.kron(np.eye(2), np.dot(np.array([[0, 1], [1, 0]]), np.array([[1, 0], [0, -1]]))),\n",
    "    phi_I,\n",
    ")"
   ]
  },
  {
   "cell_type": "code",
   "execution_count": 36,
   "metadata": {},
   "outputs": [
    {
     "data": {
      "text/plain": [
       "array([[0.25+0.j],\n",
       "       [0.  +0.j],\n",
       "       [0.  +0.j],\n",
       "       [0.25+0.j],\n",
       "       [0.  +0.j],\n",
       "       [0.  +0.j],\n",
       "       [0.  +0.j],\n",
       "       [0.  +0.j],\n",
       "       [0.  +0.j],\n",
       "       [0.  +0.j],\n",
       "       [0.  +0.j],\n",
       "       [0.  +0.j],\n",
       "       [0.25+0.j],\n",
       "       [0.  +0.j],\n",
       "       [0.  +0.j],\n",
       "       [0.25+0.j],\n",
       "       [0.  +0.j],\n",
       "       [0.  +0.j],\n",
       "       [0.  +0.j],\n",
       "       [0.  +0.j],\n",
       "       [0.  +0.j],\n",
       "       [0.  +0.j],\n",
       "       [0.  +0.j],\n",
       "       [0.  +0.j],\n",
       "       [0.  +0.j],\n",
       "       [0.  +0.j],\n",
       "       [0.  +0.j],\n",
       "       [0.  +0.j],\n",
       "       [0.  +0.j],\n",
       "       [0.  +0.j],\n",
       "       [0.  +0.j],\n",
       "       [0.  +0.j],\n",
       "       [0.  +0.j],\n",
       "       [0.  +0.j],\n",
       "       [0.  +0.j],\n",
       "       [0.  +0.j],\n",
       "       [0.  +0.j],\n",
       "       [0.  +0.j],\n",
       "       [0.  +0.j],\n",
       "       [0.  +0.j],\n",
       "       [0.  +0.j],\n",
       "       [0.  +0.j],\n",
       "       [0.  +0.j],\n",
       "       [0.  +0.j],\n",
       "       [0.  +0.j],\n",
       "       [0.  +0.j],\n",
       "       [0.  +0.j],\n",
       "       [0.  +0.j],\n",
       "       [0.  +0.j],\n",
       "       [0.  +0.j],\n",
       "       [0.  +0.j],\n",
       "       [0.  +0.j],\n",
       "       [0.  +0.j],\n",
       "       [0.  +0.j],\n",
       "       [0.  +0.j],\n",
       "       [0.  +0.j],\n",
       "       [0.  +0.j],\n",
       "       [0.  +0.j],\n",
       "       [0.  +0.j],\n",
       "       [0.  +0.j],\n",
       "       [0.  +0.j],\n",
       "       [0.  +0.j],\n",
       "       [0.  +0.j],\n",
       "       [0.  +0.j]])"
      ]
     },
     "execution_count": 36,
     "metadata": {},
     "output_type": "execute_result"
    }
   ],
   "source": [
    "# ? question, how to represent the 1,3 and 2,4 location?\n",
    "def phi_U(U: np.matrix):\n",
    "    return np.dot(np.kron(np.eye(4), U), np.kron(phi_I, phi_I) / 2)\n",
    "\n",
    "\n",
    "# take a smallest example, 2 qubit and 1 2-qubit gate\n",
    "# total used qubits are 2Dn + n qubts, latter n for input\n",
    "X = np.array([[0, 1], [1, 0]])\n",
    "U = np.kron(X, X)\n",
    "\n",
    "# kron the input state and the phi_U to get the PEPS\n",
    "phi_prod = np.kron(ket([1, 0, 0, 0]), phi_U(U))\n",
    "\n",
    "phi_prod"
   ]
  },
  {
   "cell_type": "code",
   "execution_count": null,
   "metadata": {},
   "outputs": [],
   "source": []
  }
 ],
 "metadata": {
  "kernelspec": {
   "display_name": "ac",
   "language": "python",
   "name": "python3"
  },
  "language_info": {
   "codemirror_mode": {
    "name": "ipython",
    "version": 3
   },
   "file_extension": ".py",
   "mimetype": "text/x-python",
   "name": "python",
   "nbconvert_exporter": "python",
   "pygments_lexer": "ipython3",
   "version": "3.10.13"
  }
 },
 "nbformat": 4,
 "nbformat_minor": 2
}
