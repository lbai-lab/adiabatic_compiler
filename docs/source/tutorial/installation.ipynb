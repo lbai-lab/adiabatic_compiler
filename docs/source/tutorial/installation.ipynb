{
 "cells": [
  {
   "cell_type": "markdown",
   "metadata": {},
   "source": [
    "Installation\n",
    "============\n",
    "\n",
    "Our package is written in Python, so you need to install [Python](https://www.python.org/), or [Conda](https://docs.conda.io/projects/conda/en/stable/user-guide/install/index.html). We highly recommend you to create a virtual environment for installing dependencies.\n",
    "\n",
    "**Steps:**\n",
    "\n",
    "1. Make sure you are in the root folder\n",
    "\n",
    "2. Activate your Python environment either from pip or conda.\n",
    "\n",
    "3. Install the dependencies using: `pip install -r requirements.txt`\n",
    "\n",
    "4. Install our package using: `pip install -e src`"
   ]
  }
 ],
 "metadata": {
  "language_info": {
   "name": "python"
  }
 },
 "nbformat": 4,
 "nbformat_minor": 2
}
