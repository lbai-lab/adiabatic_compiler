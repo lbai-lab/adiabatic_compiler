{
 "cells": [
  {
   "cell_type": "code",
   "execution_count": 1,
   "metadata": {},
   "outputs": [],
   "source": [
    "from qiskit import QuantumCircuit\n",
    "from qiskit.visualization import plot_histogram, plot_bloch_multivector\n",
    "import numpy as np\n",
    "\n",
    "from interpreter.gate import GateBasedInterpreter\n",
    "from interpreter.adiabatic import AdiabaticInterpreter\n",
    "from interpreter.planar import PlanarClockInterpreter\n",
    "from frontend.compress import Compress"
   ]
  },
  {
   "cell_type": "code",
   "execution_count": 2,
   "metadata": {},
   "outputs": [
    {
     "name": "stderr",
     "output_type": "stream",
     "text": [
      "/var/folders/bn/crs9z9xj4rj970hs60kl_6pw0000gn/T/ipykernel_98093/2888026286.py:1: DeprecationWarning: The qiskit.extensions module is deprecated since Qiskit 0.46.0. It will be removed in the Qiskit 1.0 release.\n",
      "  from qiskit.extensions import UnitaryGate\n"
     ]
    }
   ],
   "source": [
    "from qiskit.extensions import UnitaryGate\n",
    "from qiskit.circuit.library import GroverOperator, QFT\n",
    "\n",
    "# NOTE: the resource-expensive task happens in \"spsolve()\" in matrix exponential\n",
    "# So I modify the code by adding a progress bar on the for loop in \"spsolve()\"\n",
    "# it is around line 296 in linsolve.py, do it if you want to see the progress\n",
    "\n",
    "n = 2\n",
    "exp2_n = 2**n\n",
    "\n",
    "# # 1. Grover\n",
    "# qc = QuantumCircuit(n)\n",
    "# arr = [1] * exp2_n\n",
    "# arr[1] = -1\n",
    "# grover = QuantumCircuit(n)\n",
    "# grover.append(UnitaryGate(np.diag(arr)), range(n))\n",
    "# grover = GroverOperator(grover).decompose()\n",
    "# qc = QuantumCircuit(n)\n",
    "# qc.h(range(n))\n",
    "# for _ in range(max(1, int((np.pi / (2 * np.arcsin(1 / np.sqrt(exp2_n))) - 1) / 2))):\n",
    "#     qc.compose(grover, inplace=True)\n",
    "\n",
    "# # 2. QFT\n",
    "# qc = QuantumCircuit(n)\n",
    "# qc.x(0)\n",
    "# qc.compose(QFT(n).decompose(), inplace=True)\n",
    "# qc.compose(QFT(n, inverse=True).decompose(), inplace=True)\n",
    "\n",
    "# # # 2. Result of gate-based approach\n",
    "# # qc = QuantumCircuit(1)\n",
    "# # qc.h(0)\n",
    "# # qc.i(0)\n",
    "\n",
    "# gb_sol = GateBasedInterpreter()\n",
    "# adiab_sol = AdiabaticInterpreter(compress=Compress.no, transpile_to_two=True)\n",
    "# plot_histogram([adiab_sol.run(qc, all_histories=True)])"
   ]
  },
  {
   "cell_type": "code",
   "execution_count": 3,
   "metadata": {},
   "outputs": [
    {
     "name": "stdout",
     "output_type": "stream",
     "text": [
      "n=2, L=4, R=1\n"
     ]
    },
    {
     "name": "stderr",
     "output_type": "stream",
     "text": [
      "  0%|          | 0/6 [00:00<?, ?it/s]/opt/homebrew/Caskroom/miniconda/base/envs/ac/lib/python3.10/site-packages/scipy/sparse/linalg/_dsolve/linsolve.py:602: SparseEfficiencyWarning: splu converted its input to CSC format\n",
      "  return splu(A).solve\n",
      "/opt/homebrew/Caskroom/miniconda/base/envs/ac/lib/python3.10/site-packages/scipy/sparse/linalg/_matfuncs.py:707: SparseEfficiencyWarning: spsolve is more efficient when sparse b is in the CSC matrix format\n",
      "  return spsolve(Q, P)\n",
      "/opt/homebrew/Caskroom/miniconda/base/envs/ac/lib/python3.10/site-packages/scipy/sparse/_index.py:102: SparseEfficiencyWarning: Changing the sparsity structure of a csr_matrix is expensive. lil_matrix is more efficient.\n",
      "  self._set_intXint(row, col, x.flat[0])\n",
      " 17%|█▋        | 1/6 [00:25<02:08, 25.62s/it]\n"
     ]
    },
    {
     "ename": "ValueError",
     "evalue": "Input matrix is not unitary.",
     "output_type": "error",
     "traceback": [
      "\u001b[0;31m---------------------------------------------------------------------------\u001b[0m",
      "\u001b[0;31mValueError\u001b[0m                                Traceback (most recent call last)",
      "Cell \u001b[0;32mIn[3], line 1\u001b[0m\n\u001b[0;32m----> 1\u001b[0m \u001b[43mPlanarClockInterpreter\u001b[49m\u001b[43m(\u001b[49m\u001b[43m)\u001b[49m\u001b[38;5;241;43m.\u001b[39;49m\u001b[43mrun\u001b[49m\u001b[43m(\u001b[49m\u001b[43m)\u001b[49m\n",
      "File \u001b[0;32m~/Desktop/MasterProject/compile_to_adiabatic/src/interpreter/planar.py:44\u001b[0m, in \u001b[0;36mPlanarClockInterpreter.run\u001b[0;34m(self, num_shots)\u001b[0m\n\u001b[1;32m     38\u001b[0m gates\u001b[38;5;241m.\u001b[39mappend(Operator(QuantumCircuit(\u001b[38;5;241m1\u001b[39m)))\n\u001b[1;32m     40\u001b[0m program \u001b[38;5;241m=\u001b[39m PlanarClockFrontend()\u001b[38;5;241m.\u001b[39munitaries_to_program(\n\u001b[1;32m     41\u001b[0m     [sp\u001b[38;5;241m.\u001b[39mcsc_matrix(x) \u001b[38;5;28;01mfor\u001b[39;00m x \u001b[38;5;129;01min\u001b[39;00m gates]\n\u001b[1;32m     42\u001b[0m )\n\u001b[0;32m---> 44\u001b[0m \u001b[38;5;28;01mreturn\u001b[39;00m \u001b[43mCPUBackend\u001b[49m\u001b[43m(\u001b[49m\u001b[43m)\u001b[49m\u001b[38;5;241;43m.\u001b[39;49m\u001b[43mrun\u001b[49m\u001b[43m(\u001b[49m\u001b[43mprogram\u001b[49m\u001b[43m,\u001b[49m\u001b[43m \u001b[49m\u001b[43mnum_shots\u001b[49m\u001b[43m)\u001b[49m\n",
      "File \u001b[0;32m~/Desktop/MasterProject/compile_to_adiabatic/src/backend/cpu.py:20\u001b[0m, in \u001b[0;36mCPUBackend.run\u001b[0;34m(self, adiabatic_program, num_shots)\u001b[0m\n\u001b[1;32m     18\u001b[0m \u001b[38;5;66;03m# Hamiltonian Gate is not used because it is slower\u001b[39;00m\n\u001b[1;32m     19\u001b[0m \u001b[38;5;28;01mfor\u001b[39;00m j \u001b[38;5;129;01min\u001b[39;00m tqdm(\u001b[38;5;28mrange\u001b[39m(adiabatic_program\u001b[38;5;241m.\u001b[39mtime_steps \u001b[38;5;241m+\u001b[39m \u001b[38;5;241m1\u001b[39m)):\n\u001b[0;32m---> 20\u001b[0m     \u001b[43mqc\u001b[49m\u001b[38;5;241;43m.\u001b[39;49m\u001b[43munitary\u001b[49m\u001b[43m(\u001b[49m\u001b[43mH_of_s\u001b[49m\u001b[43m(\u001b[49m\u001b[43mj\u001b[49m\u001b[43m \u001b[49m\u001b[38;5;241;43m/\u001b[39;49m\u001b[43m \u001b[49m\u001b[43madiabatic_program\u001b[49m\u001b[38;5;241;43m.\u001b[39;49m\u001b[43mtime_steps\u001b[49m\u001b[43m)\u001b[49m\u001b[38;5;241;43m.\u001b[39;49m\u001b[43mtoarray\u001b[49m\u001b[43m(\u001b[49m\u001b[43m)\u001b[49m\u001b[43m,\u001b[49m\u001b[43m \u001b[49m\u001b[43mq_range\u001b[49m\u001b[43m)\u001b[49m\n\u001b[1;32m     21\u001b[0m qc\u001b[38;5;241m.\u001b[39mmeasure_all()\n\u001b[1;32m     22\u001b[0m \u001b[38;5;28;01mreturn\u001b[39;00m AerSimulator()\u001b[38;5;241m.\u001b[39mrun(qc, shots\u001b[38;5;241m=\u001b[39mnum_shots)\u001b[38;5;241m.\u001b[39mresult()\u001b[38;5;241m.\u001b[39mget_counts()\n",
      "File \u001b[0;32m/opt/homebrew/Caskroom/miniconda/base/envs/ac/lib/python3.10/site-packages/qiskit/circuit/quantumcircuit.py:4278\u001b[0m, in \u001b[0;36mQuantumCircuit.unitary\u001b[0;34m(self, obj, qubits, label)\u001b[0m\n\u001b[1;32m   4275\u001b[0m \u001b[38;5;66;03m# pylint: disable=cyclic-import\u001b[39;00m\n\u001b[1;32m   4276\u001b[0m \u001b[38;5;28;01mfrom\u001b[39;00m \u001b[38;5;21;01m.\u001b[39;00m\u001b[38;5;21;01mlibrary\u001b[39;00m\u001b[38;5;21;01m.\u001b[39;00m\u001b[38;5;21;01mgeneralized_gates\u001b[39;00m\u001b[38;5;21;01m.\u001b[39;00m\u001b[38;5;21;01munitary\u001b[39;00m \u001b[38;5;28;01mimport\u001b[39;00m UnitaryGate\n\u001b[0;32m-> 4278\u001b[0m gate \u001b[38;5;241m=\u001b[39m \u001b[43mUnitaryGate\u001b[49m\u001b[43m(\u001b[49m\u001b[43mobj\u001b[49m\u001b[43m,\u001b[49m\u001b[43m \u001b[49m\u001b[43mlabel\u001b[49m\u001b[38;5;241;43m=\u001b[39;49m\u001b[43mlabel\u001b[49m\u001b[43m)\u001b[49m\n\u001b[1;32m   4280\u001b[0m \u001b[38;5;66;03m# correctly treat as single-qubit gate if it only acts as 1 qubit, i.e.\u001b[39;00m\n\u001b[1;32m   4281\u001b[0m \u001b[38;5;66;03m# allow a single qubit specifier and enable broadcasting\u001b[39;00m\n\u001b[1;32m   4282\u001b[0m \u001b[38;5;28;01mif\u001b[39;00m gate\u001b[38;5;241m.\u001b[39mnum_qubits \u001b[38;5;241m==\u001b[39m \u001b[38;5;241m1\u001b[39m:\n",
      "File \u001b[0;32m/opt/homebrew/Caskroom/miniconda/base/envs/ac/lib/python3.10/site-packages/qiskit/circuit/library/generalized_gates/unitary.py:102\u001b[0m, in \u001b[0;36mUnitaryGate.__init__\u001b[0;34m(self, data, label, check_input)\u001b[0m\n\u001b[1;32m     99\u001b[0m \u001b[38;5;28;01mif\u001b[39;00m check_input:\n\u001b[1;32m    100\u001b[0m     \u001b[38;5;66;03m# Check input is unitary\u001b[39;00m\n\u001b[1;32m    101\u001b[0m     \u001b[38;5;28;01mif\u001b[39;00m \u001b[38;5;129;01mnot\u001b[39;00m is_unitary_matrix(data):\n\u001b[0;32m--> 102\u001b[0m         \u001b[38;5;28;01mraise\u001b[39;00m \u001b[38;5;167;01mValueError\u001b[39;00m(\u001b[38;5;124m\"\u001b[39m\u001b[38;5;124mInput matrix is not unitary.\u001b[39m\u001b[38;5;124m\"\u001b[39m)\n\u001b[1;32m    103\u001b[0m     \u001b[38;5;66;03m# Check input is N-qubit matrix\u001b[39;00m\n\u001b[1;32m    104\u001b[0m     \u001b[38;5;28;01mif\u001b[39;00m input_dim \u001b[38;5;241m!=\u001b[39m output_dim \u001b[38;5;129;01mor\u001b[39;00m \u001b[38;5;241m2\u001b[39m\u001b[38;5;241m*\u001b[39m\u001b[38;5;241m*\u001b[39mnum_qubits \u001b[38;5;241m!=\u001b[39m input_dim:\n",
      "\u001b[0;31mValueError\u001b[0m: Input matrix is not unitary."
     ]
    }
   ],
   "source": [
    "PlanarClockInterpreter().run()"
   ]
  }
 ],
 "metadata": {
  "kernelspec": {
   "display_name": "vnt",
   "language": "python",
   "name": "python3"
  },
  "language_info": {
   "codemirror_mode": {
    "name": "ipython",
    "version": 3
   },
   "file_extension": ".py",
   "mimetype": "text/x-python",
   "name": "python",
   "nbconvert_exporter": "python",
   "pygments_lexer": "ipython3",
   "version": "3.10.13"
  }
 },
 "nbformat": 4,
 "nbformat_minor": 2
}
