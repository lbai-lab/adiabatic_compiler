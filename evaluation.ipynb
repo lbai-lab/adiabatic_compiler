{
 "cells": [
  {
   "cell_type": "code",
   "execution_count": 1,
   "metadata": {},
   "outputs": [
    {
     "name": "stderr",
     "output_type": "stream",
     "text": [
      "/var/folders/qc/8g6tlds939q74vlq2rj198h00000gn/T/ipykernel_74262/193610474.py:6: DeprecationWarning: ``qiskit.algorithms`` has been migrated to an independent package: https://github.com/qiskit-community/qiskit-algorithms. The ``qiskit.algorithms`` import path is deprecated as of qiskit-terra 0.25.0 and will be removed no earlier than 3 months after the release date. Please run ``pip install qiskit_algorithms`` and use ``import qiskit_algorithms`` instead.\n",
      "  from qiskit.algorithms import AmplificationProblem\n"
     ]
    }
   ],
   "source": [
    "import numpy as np\n",
    "from interpreter.adiabatic import transpile_two\n",
    "from interpreter.gate import GateBasedInterpreter\n",
    "from interpreter.adiabatic import AdiabaticInterpreter\n",
    "from qiskit import QuantumCircuit\n",
    "from qiskit.algorithms import AmplificationProblem\n",
    "from qiskit.quantum_info import Statevector\n",
    "from qiskit.visualization import plot_histogram\n",
    "import matplotlib.pyplot as plt\n"
   ]
  },
  {
   "cell_type": "code",
   "execution_count": 2,
   "metadata": {},
   "outputs": [
    {
     "name": "stderr",
     "output_type": "stream",
     "text": [
      "  0%|          | 0/5 [00:00<?, ?it/s]/opt/homebrew/Caskroom/miniconda/base/envs/quantum/lib/python3.10/site-packages/scipy/sparse/linalg/_dsolve/linsolve.py:412: SparseEfficiencyWarning: splu converted its input to CSC format\n",
      "  warn('splu converted its input to CSC format', SparseEfficiencyWarning)\n",
      "/opt/homebrew/Caskroom/miniconda/base/envs/quantum/lib/python3.10/site-packages/scipy/sparse/linalg/_dsolve/linsolve.py:302: SparseEfficiencyWarning: spsolve is more efficient when sparse b is in the CSC matrix format\n",
      "  warn('spsolve is more efficient when sparse b '\n",
      "/opt/homebrew/Caskroom/miniconda/base/envs/quantum/lib/python3.10/site-packages/scipy/sparse/_index.py:100: SparseEfficiencyWarning: Changing the sparsity structure of a csr_matrix is expensive. lil_matrix is more efficient.\n",
      "  self._set_intXint(row, col, x.flat[0])\n",
      "100%|██████████| 5/5 [00:00<00:00, 53.45it/s]\n"
     ]
    },
    {
     "data": {
      "image/png": "[encoded data removed]",
      "text/plain": [
       "<Figure size 700x500 with 1 Axes>"
      ]
     },
     "execution_count": 2,
     "metadata": {},
     "output_type": "execute_result"
    }
   ],
   "source": [
    "n = 3\n",
    "qc = QuantumCircuit(n)\n",
    "qc.x(range(n))\n",
    "\n",
    "plot_histogram(AdiabaticInterpreter(info=False).run(qc, all_histories=True))"
   ]
  },
  {
   "cell_type": "code",
   "execution_count": 3,
   "metadata": {},
   "outputs": [
    {
     "name": "stderr",
     "output_type": "stream",
     "text": [
      "  0%|          | 0/4 [00:00<?, ?it/s]/opt/homebrew/Caskroom/miniconda/base/envs/quantum/lib/python3.10/site-packages/scipy/sparse/linalg/_dsolve/linsolve.py:412: SparseEfficiencyWarning: splu converted its input to CSC format\n",
      "  warn('splu converted its input to CSC format', SparseEfficiencyWarning)\n",
      "/opt/homebrew/Caskroom/miniconda/base/envs/quantum/lib/python3.10/site-packages/scipy/sparse/linalg/_dsolve/linsolve.py:302: SparseEfficiencyWarning: spsolve is more efficient when sparse b is in the CSC matrix format\n",
      "  warn('spsolve is more efficient when sparse b '\n",
      "/opt/homebrew/Caskroom/miniconda/base/envs/quantum/lib/python3.10/site-packages/scipy/sparse/_index.py:100: SparseEfficiencyWarning: Changing the sparsity structure of a csr_matrix is expensive. lil_matrix is more efficient.\n",
      "  self._set_intXint(row, col, x.flat[0])\n",
      "100%|██████████| 4/4 [00:00<00:00, 121.52it/s]\n",
      "100%|██████████| 4/4 [00:00<00:00, 224.24it/s]\n",
      "100%|██████████| 5/5 [00:00<00:00, 154.69it/s]\n",
      "100%|██████████| 5/5 [00:00<00:00, 149.87it/s]\n",
      "100%|██████████| 6/6 [00:00<00:00, 90.09it/s]\n",
      "100%|██████████| 6/6 [00:00<00:00, 92.46it/s]\n",
      "100%|██████████| 7/7 [00:00<00:00, 54.60it/s]\n",
      "100%|██████████| 7/7 [00:00<00:00, 48.10it/s]\n",
      "100%|██████████| 8/8 [00:00<00:00, 23.74it/s]\n",
      "100%|██████████| 8/8 [00:00<00:00, 28.33it/s]\n",
      "100%|██████████| 9/9 [00:00<00:00, 14.53it/s]\n",
      "100%|██████████| 9/9 [00:00<00:00, 14.22it/s]\n",
      "100%|██████████| 10/10 [00:01<00:00,  5.88it/s]\n",
      "100%|██████████| 10/10 [00:01<00:00,  6.04it/s]\n",
      "100%|██████████| 11/11 [00:04<00:00,  2.65it/s]\n",
      "100%|██████████| 11/11 [00:04<00:00,  2.53it/s]\n",
      " 83%|████████▎ | 10/12 [00:13<00:02,  1.05s/it]"
     ]
    }
   ],
   "source": [
    "one_x, one_h, n_x, n_h = [],[],[],[]\n",
    "range_n, range_n_2 = range(2,11), range(2,6)\n",
    "\n",
    "for n in range_n:\n",
    "    qc = QuantumCircuit(1)\n",
    "    for _ in range(n):\n",
    "        qc.x(0)\n",
    "    one_x.append(sum(AdiabaticInterpreter(info=False).run(qc).values())/1024)\n",
    "\n",
    "    qc = QuantumCircuit(1)\n",
    "    for _ in range(n):\n",
    "        qc.h(0)\n",
    "    one_h.append(sum(AdiabaticInterpreter(info=False).run(qc).values())/1024)\n",
    "\n",
    "for n in range_n_2:\n",
    "    qc = QuantumCircuit(n)\n",
    "    qc.x(range(n))\n",
    "    n_x.append(sum(AdiabaticInterpreter(info=False).run(qc).values())/1024)\n",
    "\n",
    "    qc = QuantumCircuit(n)\n",
    "    qc.h(range(n))\n",
    "    n_h.append(sum(AdiabaticInterpreter(info=False).run(qc).values())/1024)\n",
    "\n",
    "plt.plot(range_n, [1/i for i in range_n], label=\"Theoritcal Probability\")\n",
    "plt.xlabel(\"L, Number of Gates\")\n",
    "plt.ylabel(\"Probability\")\n",
    "plt.plot(range_n, one_x, label=\"X on 1-qubit\")\n",
    "plt.plot(range_n, one_h, label=\"H on 1-qubit\")\n",
    "plt.plot(range_n_2, n_x, label=\"X on n-qubit\")\n",
    "plt.plot(range_n_2, n_h, label=\"H on n-qubit\")\n",
    "plt.legend()"
   ]
  },
  {
   "cell_type": "code",
   "execution_count": null,
   "metadata": {},
   "outputs": [],
   "source": [
    "for n in range(3, 10):\n",
    "    good_state = \"1\" * n\n",
    "\n",
    "    oracle = Statevector.from_label(good_state)\n",
    "    problem = AmplificationProblem(oracle, is_good_state=[good_state])\n",
    "    oracle = problem.grover_operator.decompose()\n",
    "\n",
    "    qc = QuantumCircuit(n)\n",
    "    exp2_n = 2**n\n",
    "    qc = QuantumCircuit(n)\n",
    "    qc.h(range(n))\n",
    "    for _ in range(max(1, int((np.pi / (2 * np.arcsin(1 / np.sqrt(exp2_n))) - 1) / 2))):\n",
    "        qc.compose(oracle, inplace=True)\n",
    "\n",
    "    print(f\"n={n}, L={qc.size()}, L_2={transpile_two(qc).size()}\")\n",
    "    res = GateBasedInterpreter().run(qc)\n",
    "    if max(res, key=res.get) != good_state:\n",
    "        raise\n"
   ]
  },
  {
   "cell_type": "code",
   "execution_count": null,
   "metadata": {},
   "outputs": [],
   "source": [
    "from qiskit.circuit.library import QFT\n",
    "\n",
    "for n in range(3, 10):\n",
    "    qc = QuantumCircuit(n)\n",
    "    qc.compose(QFT(n).decompose(), inplace=True)\n",
    "    qc.compose(QFT(n, inverse=True).decompose(), inplace=True)\n",
    "\n",
    "    print(f\"n={n}, L={qc.size()}, L_2={transpile_two(qc).size()}\")\n",
    "    res = GateBasedInterpreter().run(qc)\n",
    "    if max(res, key=res.get) != \"0\"*n:\n",
    "        raise\n"
   ]
  }
 ],
 "metadata": {
  "kernelspec": {
   "display_name": "quantum",
   "language": "python",
   "name": "python3"
  },
  "language_info": {
   "codemirror_mode": {
    "name": "ipython",
    "version": 3
   },
   "file_extension": ".py",
   "mimetype": "text/x-python",
   "name": "python",
   "nbconvert_exporter": "python",
   "pygments_lexer": "ipython3",
   "version": "3.10.13"
  }
 },
 "nbformat": 4,
 "nbformat_minor": 2
}
