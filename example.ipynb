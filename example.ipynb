{
 "cells": [
  {
   "cell_type": "code",
   "execution_count": 1,
   "metadata": {},
   "outputs": [],
   "source": [
    "from qiskit import QuantumCircuit\n",
    "from qiskit.visualization import plot_histogram, plot_bloch_multivector\n",
    "import numpy as np\n",
    "\n",
    "from interpreter.gate import GateBasedInterpreter\n",
    "from interpreter.adiabatic import AdiabaticInterpreter\n",
    "from interpreter.planar import PlanarClockInterpreter\n",
    "from frontend.compress import Compress"
   ]
  },
  {
   "cell_type": "code",
   "execution_count": 2,
   "metadata": {},
   "outputs": [],
   "source": [
    "from qiskit.extensions import UnitaryGate\n",
    "from qiskit.circuit.library import GroverOperator, QFT\n",
    "\n",
    "# NOTE: the resource-expensive task happens in \"spsolve()\" in matrix exponential\n",
    "# So I modify the code by adding a progress bar on the for loop in \"spsolve()\"\n",
    "# it is around line 296 in linsolve.py, do it if you want to see the progress\n",
    "\n",
    "# n = 2\n",
    "# exp2_n = 2**n\n",
    "\n",
    "# # 1. Grover\n",
    "# qc = QuantumCircuit(n)\n",
    "# arr = [1] * exp2_n\n",
    "# arr[1] = -1\n",
    "# grover = QuantumCircuit(n)\n",
    "# grover.append(UnitaryGate(np.diag(arr)), range(n))\n",
    "# grover = GroverOperator(grover).decompose()\n",
    "# qc = QuantumCircuit(n)\n",
    "# qc.h(range(n))\n",
    "# for _ in range(max(1, int((np.pi / (2 * np.arcsin(1 / np.sqrt(exp2_n))) - 1) / 2))):\n",
    "#     qc.compose(grover, inplace=True)\n",
    "\n",
    "# # 2. QFT\n",
    "# qc = QuantumCircuit(n)\n",
    "# qc.x(0)\n",
    "# qc.compose(QFT(n).decompose(), inplace=True)\n",
    "# qc.compose(QFT(n, inverse=True).decompose(), inplace=True)\n",
    "\n",
    "# # 2. Result of gate-based approach\n",
    "# qc = QuantumCircuit(1)\n",
    "# qc.h(0)\n",
    "# qc.i(0)\n",
    "\n",
    "# gb_sol = GateBasedInterpreter()\n",
    "# adiab_sol = AdiabaticInterpreter(compress=Compress.no, transpile_to_two=True)\n",
    "# plot_histogram([adiab_sol.run(qc, all_histories=True)])"
   ]
  },
  {
   "cell_type": "code",
   "execution_count": 3,
   "metadata": {},
   "outputs": [
    {
     "name": "stdout",
     "output_type": "stream",
     "text": [
      "n=2, L=4, R=1\n"
     ]
    },
    {
     "name": "stderr",
     "output_type": "stream",
     "text": [
      "/opt/homebrew/Caskroom/miniconda/base/envs/quantum/lib/python3.10/site-packages/scipy/sparse/_index.py:100: SparseEfficiencyWarning: Changing the sparsity structure of a csc_matrix is expensive. lil_matrix is more efficient.\n",
      "  self._set_intXint(row, col, x.flat[0])\n",
      "100%|██████████| 6/6 [00:20<00:00,  3.42s/it]\n"
     ]
    },
    {
     "data": {
      "text/plain": [
       "{'000000000000': 1024}"
      ]
     },
     "execution_count": 3,
     "metadata": {},
     "output_type": "execute_result"
    }
   ],
   "source": [
    "PlanarClockInterpreter().run()"
   ]
  }
 ],
 "metadata": {
  "kernelspec": {
   "display_name": "vnt",
   "language": "python",
   "name": "python3"
  },
  "language_info": {
   "codemirror_mode": {
    "name": "ipython",
    "version": 3
   },
   "file_extension": ".py",
   "mimetype": "text/x-python",
   "name": "python",
   "nbconvert_exporter": "python",
   "pygments_lexer": "ipython3",
   "version": "3.10.13"
  }
 },
 "nbformat": 4,
 "nbformat_minor": 2
}
