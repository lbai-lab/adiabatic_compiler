{
 "cells": [
  {
   "cell_type": "code",
   "execution_count": 1,
   "metadata": {},
   "outputs": [],
   "source": [
    "from qiskit import QuantumCircuit\n",
    "from qiskit.visualization import plot_histogram, plot_bloch_multivector\n",
    "import numpy as np\n",
    "\n",
    "from interpreter.gate import GateBasedInterpreter\n",
    "from interpreter.adiabatic import AdiabaticInterpreter\n",
    "from interpreter.compress import Compress"
   ]
  },
  {
   "cell_type": "code",
   "execution_count": 3,
   "metadata": {},
   "outputs": [
    {
     "name": "stderr",
     "output_type": "stream",
     "text": [
      "/opt/homebrew/Caskroom/miniconda/base/envs/quantum/lib/python3.10/site-packages/numpy/linalg/linalg.py:2180: RuntimeWarning: divide by zero encountered in det\n",
      "  r = _umath_linalg.det(a, signature=signature)\n",
      "/opt/homebrew/Caskroom/miniconda/base/envs/quantum/lib/python3.10/site-packages/numpy/linalg/linalg.py:2180: RuntimeWarning: invalid value encountered in det\n",
      "  r = _umath_linalg.det(a, signature=signature)\n"
     ]
    },
    {
     "name": "stdout",
     "output_type": "stream",
     "text": [
      "\n",
      "*** INFO ***\n",
      "\n",
      "locality mode = 5\n",
      "compress mode = Compress.no\n",
      "qubit map = None\n",
      "# of gates = 8\n",
      "# of computation qubits (n) = 2\n",
      "# of clock qubits (L) = 8\n",
      "# of ending identities = 0\n",
      "\n",
      "*** END OF INFO ***\n",
      "\n",
      "2 = n, 8 = L\n"
     ]
    },
    {
     "name": "stderr",
     "output_type": "stream",
     "text": [
      "  0%|          | 0/10 [00:00<?, ?it/s]/opt/homebrew/Caskroom/miniconda/base/envs/quantum/lib/python3.10/site-packages/scipy/sparse/linalg/_dsolve/linsolve.py:412: SparseEfficiencyWarning: splu converted its input to CSC format\n",
      "  warn('splu converted its input to CSC format', SparseEfficiencyWarning)\n",
      "/opt/homebrew/Caskroom/miniconda/base/envs/quantum/lib/python3.10/site-packages/scipy/sparse/linalg/_dsolve/linsolve.py:302: SparseEfficiencyWarning: spsolve is more efficient when sparse b is in the CSC matrix format\n",
      "  warn('spsolve is more efficient when sparse b '\n",
      "/opt/homebrew/Caskroom/miniconda/base/envs/quantum/lib/python3.10/site-packages/scipy/sparse/_index.py:100: SparseEfficiencyWarning: Changing the sparsity structure of a csr_matrix is expensive. lil_matrix is more efficient.\n",
      "  self._set_intXint(row, col, x.flat[0])\n",
      "100%|██████████| 10/10 [00:04<00:00,  2.30it/s]\n"
     ]
    },
    {
     "name": "stdout",
     "output_type": "stream",
     "text": [
      "{'0111000000': 7, '0011000000': 6, '1111100000': 6, '1011110000': 42, '0011100000': 13, '0010000000': 24, '1011111000': 98, '1011111110': 139, '0111111000': 89, '1111111100': 78, '0011110000': 31, '0111100000': 40, '1011111100': 114, '1111000000': 14, '0110000000': 33, '0111110000': 42, '1011000000': 16, '0000000000': 77, '1111110000': 43, '1011100000': 39, '1011111111': 73}\n"
     ]
    },
    {
     "data": {
      "image/png": "[encoded data removed]",
      "text/plain": [
       "<Figure size 700x500 with 1 Axes>"
      ]
     },
     "execution_count": 3,
     "metadata": {},
     "output_type": "execute_result"
    }
   ],
   "source": [
    "from qiskit.extensions import UnitaryGate\n",
    "from qiskit.circuit.library import GroverOperator, QFT\n",
    "\n",
    "# NOTE: the resource-expensive task happens in \"spsolve()\" in matrix exponential\n",
    "# So I modify the code by adding a progress bar on the for loop in \"spsolve()\"\n",
    "# it is around line 296 in linsolve.py, do it if you want to see the progress\n",
    "\n",
    "n = 2\n",
    "exp2_n = 2**n\n",
    "\n",
    "# 1. Grover\n",
    "qc = QuantumCircuit(n)\n",
    "arr = [1] * exp2_n\n",
    "arr[1] = -1\n",
    "grover = QuantumCircuit(n)\n",
    "grover.append(UnitaryGate(np.diag(arr)), range(n))\n",
    "grover = GroverOperator(grover).decompose()\n",
    "qc = QuantumCircuit(n)\n",
    "qc.h(range(n))\n",
    "for _ in range(max(1, int((np.pi / (2 * np.arcsin(1 / np.sqrt(exp2_n))) - 1) / 2))):\n",
    "    qc.compose(grover, inplace=True)\n",
    "\n",
    "# 2. QFT\n",
    "# qc = QuantumCircuit(n)\n",
    "# qc.x(0)\n",
    "# qc.compose(QFT(n).decompose(), inplace=True)\n",
    "# qc.compose(QFT(n, inverse=True).decompose(), inplace=True)\n",
    "\n",
    "# 2. Result of gate-based approach\n",
    "gb_sol = GateBasedInterpreter()\n",
    "adiab_sol = AdiabaticInterpreter(compress=Compress.no, transpile_to_two=True)\n",
    "plot_histogram([adiab_sol.run(qc), gb_sol.run(qc)])"
   ]
  }
 ],
 "metadata": {
  "kernelspec": {
   "display_name": "vnt",
   "language": "python",
   "name": "python3"
  },
  "language_info": {
   "codemirror_mode": {
    "name": "ipython",
    "version": 3
   },
   "file_extension": ".py",
   "mimetype": "text/x-python",
   "name": "python",
   "nbconvert_exporter": "python",
   "pygments_lexer": "ipython3",
   "version": "3.10.13"
  }
 },
 "nbformat": 4,
 "nbformat_minor": 2
}
